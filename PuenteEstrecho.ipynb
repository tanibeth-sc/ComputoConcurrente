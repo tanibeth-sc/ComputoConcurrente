{
  "nbformat": 4,
  "nbformat_minor": 0,
  "metadata": {
    "colab": {
      "provenance": [],
      "collapsed_sections": []
    },
    "kernelspec": {
      "name": "python3",
      "display_name": "Python 3"
    },
    "language_info": {
      "name": "python"
    }
  },
  "cells": [
    {
      "cell_type": "code",
      "execution_count": 1,
      "metadata": {
        "id": "OnMV2d2ehehY"
      },
      "outputs": [],
      "source": [
        "import sys\n",
        "import multiprocessing as mp\n",
        "import threading\n",
        "import time\n",
        "import random"
      ]
    },
    {
      "cell_type": "code",
      "source": [
        "class Semaphore():\n",
        "    def __init__(self, initial):\n",
        "        self.lock = threading.Condition() # *\n",
        "        self.value = initial\n",
        "\n",
        "    def up(self):\n",
        "        with self.lock:\n",
        "            self.value += 1\n",
        "            self.lock.notify() # *\n",
        "\n",
        "    def down(self):\n",
        "        with self.lock:\n",
        "            while self.value == 0:\n",
        "                self.lock.wait() # *\n",
        "            self.value -= 1"
      ],
      "metadata": {
        "id": "f_YNY-vAvjKW"
      },
      "execution_count": 2,
      "outputs": []
    },
    {
      "cell_type": "code",
      "source": [
        "class Puente():\n",
        "  def __init__(self):    \n",
        "    self.lock = threading.Condition()\n",
        "    self.number = 0\n",
        "\n",
        "  def entrar(self, sentido,indice):         # used for synchronization\n",
        "    with self.lock:\n",
        "      while self.number > 3:\n",
        "        sys.stdout.write(\"-------------Carro %s en sentido %s esperando por el puente----------\\n\" % (indice,sentido))\n",
        "        self.lock.wait()\n",
        "      self.number += 1\n",
        "      sys.stdout.write(\"--------Carro en %s sentido %s pasando por el puente-----\\n\"%(indice,sentido))\n",
        "      self.lock.notifyAll()\n",
        "\n",
        "  def salir(self, sentido,indice):         # used for synchronization\n",
        "    with self.lock:\n",
        "      self.number -= 1\n",
        "      sys.stdout.write(\"--------Carro en %s sentido %s ya pasó por el puente-----\\n\"%(indice,sentido))\n",
        "      self.lock.notifyAll()"
      ],
      "metadata": {
        "id": "gVLIIfUGuphf"
      },
      "execution_count": 15,
      "outputs": []
    },
    {
      "cell_type": "code",
      "source": [
        "class Carro(threading.Thread):\n",
        "    def __init__(self,semaforo,puente,indice):\n",
        "        threading.Thread.__init__(self)\n",
        "        self.dir = random.randint(0,1)\n",
        "        self.semaforo = semaforo\n",
        "        self.puente = puente\n",
        "        self.indice = indice\n",
        "\n",
        "    def run(self):\n",
        "        while True:\n",
        "          if self.dir == 0:\n",
        "            sys.stdout.write(\"Carro %s en sentido izquierdo (0) quiere pasar\\n\" %(self.indice))\n",
        "            time.sleep(1)\n",
        "            self.semaforo.down()              \n",
        "            time.sleep(1)\n",
        "            self.puente.entrar(self.dir,self.indice)        \n",
        "            time.sleep(1)\n",
        "            self.puente.salir(self.dir,self.indice)  \n",
        "            time.sleep(1)\n",
        "            self.semaforo.up()             \n",
        "            time.sleep(1)\n",
        "\n",
        "          if self.dir == 1:\n",
        "            sys.stdout.write(\"Carro %s en sentido derecho (1) quiere pasar\\n\"%(self.indice))\n",
        "            time.sleep(1)\n",
        "            self.semaforo.down()              \n",
        "            time.sleep(1)\n",
        "            self.puente.entrar(self.dir,self.indice)        \n",
        "            time.sleep(1)\n",
        "            self.puente.salir(self.dir,self.indice)  \n",
        "            time.sleep(1)\n",
        "            self.semaforo.up()             \n",
        "            time.sleep(1)"
      ],
      "metadata": {
        "id": "V7n8GPgDsmW5"
      },
      "execution_count": 16,
      "outputs": []
    },
    {
      "cell_type": "code",
      "source": [
        "if __name__ == '__main__':\n",
        "    n_izq = 5\n",
        "    c = [Puente() for i in range(n_izq)]\n",
        "    semaforo = Semaphore(2)\n",
        "    sys.stdout.write(\"\\n\")\n",
        "\n",
        "    p_izq = [ Carro(semaforo,c[i],i) for i in range(n_izq) ]\n",
        "    \n",
        "    for i in range(n_izq):\n",
        "        p_izq[i].start()\n",
        "        \n",
        "    for i in range(n_izq):\n",
        "        p_izq[i].join()"
      ],
      "metadata": {
        "id": "wsTuHRIUmIdT"
      },
      "execution_count": null,
      "outputs": []
    }
  ]
}