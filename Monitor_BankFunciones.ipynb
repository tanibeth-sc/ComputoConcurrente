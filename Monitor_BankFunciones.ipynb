{
  "nbformat": 4,
  "nbformat_minor": 0,
  "metadata": {
    "colab": {
      "provenance": []
    },
    "kernelspec": {
      "name": "python3",
      "display_name": "Python 3"
    },
    "language_info": {
      "name": "python"
    }
  },
  "cells": [
    {
      "cell_type": "code",
      "execution_count": null,
      "metadata": {
        "id": "-dbnsZB18rel"
      },
      "outputs": [],
      "source": [
        "import sys\n",
        "import multiprocessing as mp\n",
        "import threading\n",
        "import time"
      ]
    },
    {
      "cell_type": "code",
      "source": [
        "def Withdraw(amount_w,balance,cv):\n",
        "  with cv:\n",
        "    while balance.value < amount_w:\n",
        "      print(f'Tienes menor cantidad (${balance.value}) de la que quieres retirar (${amount_w}). Aún no se puede completar tu transacción. \\n')\n",
        "      #balance.value = balance.value + 300\n",
        "      cv.wait()\n",
        "    balance.value = balance.value - amount_w\n",
        "    print('Tú retiraste, ahora tienes: $', balance.value, ':(', '\\n')\n",
        "    cv.notifyAll()\n",
        "\n",
        "def Deposit(amount_a,balance,cv):\n",
        "  with cv:\n",
        "    while amount_a < 0:\n",
        "      cv.wait()\n",
        "    balance.value = balance.value + amount_a\n",
        "    print('Tú depositaste, ahora tienes: $', balance.value, ':))', '\\n')\n",
        "    cv.notifyAll()\n",
        "\n",
        "if __name__ == '__main__':\n",
        "  condition = threading.Condition()\n",
        "  balance_initial = int(input('Inicialmente tienes $0, ¿cuánto deseas abonar?\\n'))\n",
        "  balance = mp.Value('i',balance_initial) \n",
        "  transac1 = threading.Thread(name='deposito1', target=Deposit, args=(5,balance,condition))\n",
        "  transac2 = threading.Thread(name='deposito2', target=Deposit, args=(5,balance,condition))\n",
        "  transac3 = threading.Thread(name='retiro1', target=Withdraw, args=(20,balance,condition))\n",
        "  transac4 = threading.Thread(name='retiro1', target=Withdraw, args=(22,balance,condition))\n",
        "  transac5 = threading.Thread(name='deposito1', target=Deposit, args=(150,balance,condition))\n",
        "\n",
        "  transac1.start()\n",
        "  time.sleep(1)\n",
        "  transac2.start()\n",
        "  time.sleep(1)\n",
        "  transac3.start()\n",
        "  time.sleep(1)\n",
        "  transac4.start()\n",
        "  time.sleep(1)\n",
        "  transac5.start()"
      ],
      "metadata": {
        "colab": {
          "base_uri": "https://localhost:8080/"
        },
        "id": "n3kMg_NV9I5V",
        "outputId": "4157a548-2b1d-409b-837e-4adbbef7777e"
      },
      "execution_count": null,
      "outputs": [
        {
          "output_type": "stream",
          "name": "stdout",
          "text": [
            "Inicialmente tienes $0, ¿cuánto deseas abonar?\n",
            "5\n",
            "Tú depositaste, ahora tienes: $ 10 :)) \n",
            "\n",
            "Tú depositaste, ahora tienes: $ 15 :)) \n",
            "\n",
            "Tienes menor cantidad ($15) de la que quieres retirar ($20). Aún no se puede completar tu transacción. \n",
            "\n",
            "Tienes menor cantidad ($15) de la que quieres retirar ($22). Aún no se puede completar tu transacción. \n",
            "\n",
            "Tú depositaste, ahora tienes: $ 165 :)) \n",
            "\n",
            "Tú retiraste, ahora tienes: $ 145 :( \n",
            "\n",
            "Tú retiraste, ahora tienes: $ 123 :( \n",
            "\n"
          ]
        }
      ]
    },
    {
      "cell_type": "code",
      "source": [],
      "metadata": {
        "id": "RMrIZpqxGGk4"
      },
      "execution_count": null,
      "outputs": []
    },
    {
      "cell_type": "code",
      "source": [],
      "metadata": {
        "id": "7HWtw6TEBTWk"
      },
      "execution_count": null,
      "outputs": []
    }
  ]
}