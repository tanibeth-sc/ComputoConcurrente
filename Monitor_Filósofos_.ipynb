{
  "nbformat": 4,
  "nbformat_minor": 0,
  "metadata": {
    "colab": {
      "provenance": []
    },
    "kernelspec": {
      "name": "python3",
      "display_name": "Python 3"
    },
    "language_info": {
      "name": "python"
    }
  },
  "cells": [
    {
      "cell_type": "code",
      "execution_count": null,
      "metadata": {
        "id": "WWE4zdUznlYB",
        "scrolled": false
      },
      "outputs": [],
      "source": [
        "import threading\n",
        "import time\n",
        "import multiprocessing as mp\n",
        "import sys"
      ]
    },
    {
      "cell_type": "code",
      "execution_count": null,
      "metadata": {
        "scrolled": true,
        "id": "h7HBO6TQMR2k",
        "outputId": "31c41ee5-a20d-4187-df21-8faa19b8ab02",
        "colab": {
          "base_uri": "https://localhost:8080/"
        }
      },
      "outputs": [
        {
          "output_type": "stream",
          "name": "stdout",
          "text": [
            "Dime cuántos Filósofos : 4\n",
            "\n",
            "Filósofo[1] PENSANDO\n",
            "Filósofo[2] PENSANDO\n",
            "Filósofo[3] PENSANDO\n",
            "Filósofo[4] PENSANDO\n",
            "Filósofo[2] tomó el palillo[2]\n",
            "Filósofo[1] tomó el palillo[1]\n",
            "Filósofo[3] tomó el palillo[3]\n",
            "Filósofo[3] tomó el palillo[4]\n",
            "Filósofo[3] COMIENDO\n",
            "Filósofo[3] dejó el palillo[4]\n",
            "Filósofo[3] dejó el palillo[3]\n",
            "Filósofo[2] tomó el palillo[3]\n",
            "Filósofo[2] COMIENDO\n",
            "Filósofo[2] dejó el palillo[3]\n",
            "---------------Filósofo[3] terminó de COMER--------------\n",
            "Filósofo[2] dejó el palillo[2]\n",
            "Filósofo[1] tomó el palillo[2]\n",
            "Filósofo[4] tomó el palillo[4]\n",
            "---------------Filósofo[2] terminó de COMER--------------\n",
            "Filósofo[1] COMIENDO\n",
            "Filósofo[1] dejó el palillo[2]\n",
            "Filósofo[1] dejó el palillo[1]\n",
            "Filósofo[4] tomó el palillo[1]\n",
            "---------------Filósofo[1] terminó de COMER--------------\n",
            "Filósofo[4] COMIENDO\n",
            "Filósofo[4] dejó el palillo[1]\n",
            "Filósofo[4] dejó el palillo[4]\n",
            "---------------Filósofo[4] terminó de COMER--------------\n"
          ]
        }
      ],
      "source": [
        "class UpDown():\n",
        "    def __init__(self, initial):\n",
        "        self.lock = threading.Condition() # *\n",
        "        self.value = initial\n",
        "\n",
        "    def up(self):\n",
        "        with self.lock:\n",
        "            self.value += 1\n",
        "            self.lock.notify() # *\n",
        "\n",
        "    def down(self):\n",
        "        with self.lock:\n",
        "            while self.value == 0:\n",
        "                self.lock.wait() # *\n",
        "            self.value -= 1\n",
        "            \n",
        "class ChopStick():\n",
        "    def __init__(self, number):\n",
        "        self.number = number  + 1        \n",
        "        self.user = -1      \n",
        "        self.lock = threading.Condition()\n",
        "        self.taken = False\n",
        "\n",
        "    def take(self, user):         # used for synchronization\n",
        "        with self.lock:\n",
        "            while self.taken == True:\n",
        "                self.lock.wait()\n",
        "            self.user = user\n",
        "            self.taken = True\n",
        "            sys.stdout.write(\"Filósofo[%s] tomó el palillo[%s]\\n\" % (user, self.number))\n",
        "            self.lock.notifyAll()\n",
        "\n",
        "    def drop(self, user):         # used for synchronization\n",
        "        with self.lock:\n",
        "            while self.taken == False:\n",
        "                self.lock.wait()\n",
        "            self.user = -1\n",
        "            self.taken = False\n",
        "            sys.stdout.write(\"Filósofo[%s] dejó el palillo[%s]\\n\" % (user, self.number))\n",
        "            self.lock.notifyAll()\n",
        "\n",
        "class Philosopher (threading.Thread):\n",
        "    def __init__(self, number, left, right, semaphore):\n",
        "        threading.Thread.__init__(self)\n",
        "        self.number = number + 1           \n",
        "        self.left = left\n",
        "        self.right = right\n",
        "        self.semaphore = semaphore\n",
        "    \n",
        "    def run(self):\n",
        "        for i in range(1):\n",
        "            sys.stdout.write(\"Filósofo[%s] PENSANDO\\n\" % (self.number))\n",
        "            time.sleep(1)\n",
        "            self.semaphore.down()              \n",
        "            time.sleep(1)  \n",
        "            self.left.take(self.number)    \n",
        "            time.sleep(1)     \n",
        "            self.right.take(self.number)    \n",
        "            time.sleep(1)                \n",
        "            sys.stdout.write(\"Filósofo[%s] COMIENDO\\n\" % (self.number))\n",
        "            self.right.drop(self.number)    \n",
        "            time.sleep(1)\n",
        "            self.left.drop(self.number)     \n",
        "            time.sleep(1)\n",
        "            self.semaphore.up()             \n",
        "            #time.sleep(1)\n",
        "        sys.stdout.write(\"---------------Filósofo[%s] terminó de COMER--------------\\n\" % self.number)\n",
        "\n",
        "def dinner():\n",
        "    n = int(input('Dime cuántos Filósofos : '))\n",
        "    c = [ChopStick(i) for i in range(n)]\n",
        "    semaphore = UpDown(n-1)\n",
        "    sys.stdout.write(\"\\n\")\n",
        "    p = [Philosopher(i, c[i], c[(i+1)%n], semaphore) for i in range(n)]\n",
        "\n",
        "    for i in range(n):\n",
        "        p[i].start()\n",
        "        \n",
        "    for j in range(n):\n",
        "        p[i].join()\n",
        "    \n",
        "dinner()"
      ]
    }
  ]
}